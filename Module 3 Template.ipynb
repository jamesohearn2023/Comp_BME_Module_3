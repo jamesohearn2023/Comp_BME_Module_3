{
 "cells": [
  {
   "cell_type": "markdown",
   "id": "07d08828-39be-453d-9c15-7d0737ceb72f",
   "metadata": {},
   "source": [
    "## Module_3:\n",
    "\n",
    "## Team Members:\n",
    "*Jack O'Hearn, Wyatt Young*\n",
    "\n",
    "## Project Title: Angiogenesis in Lung Cancer\n",
    "*Module 3 Hallmarks of Cancer*\n",
    "\n"
   ]
  },
  {
   "cell_type": "markdown",
   "id": "8372d796-186a-4ae2-9b4f-0065979e555a",
   "metadata": {},
   "source": [
    "## Project Goal:\n",
    "This project seeks to understand the mechanism and associated genes of angiogenesis in lung cancer and determine if there are specific genes or markers related to this hallmark."
   ]
  },
  {
   "cell_type": "markdown",
   "id": "91408b75-185a-4d66-9ce7-7c7aabbde5e1",
   "metadata": {},
   "source": [
    "## Disease Background:\n",
    "\n",
    "* Cancer hallmark focus: evading angiogenesis\n",
    "* Overview of hallmark: Evading apoptosis is the ability for nearly all cancer cells to circumvent the cells natural process of programed cell death. Without cell death, malignant cells can continue to reproduce and spread their altered genes that allows cancer to continue to grow harmful tumors within the body. Evading this normal regulation is a hallmark of cancer growth and exponential reproduction. The main pathway of evading apoptosis is through inactivation of the p53 protein. This protein can upregulate proapoptotic expression through BAX after DNA damage. BAX in turn stimulates mitochondrial release of cytochrome C which promotes apoptosis. Without this p53 activated circuit, apoptosis can be down regulated and evaded. \n",
    "* Genes associated with hallmark to be studied (describe the role of each gene, signaling pathway, or gene set you are going to investigate): TP53 gene which is what produces the p53 protein is the gene and protein most associated with evading angionesis. This protein works by upregulating the expression of the BCL2 gene which is responsible for producing BAX which promotes apoptosis after DNA damage.  \n",
    "\n",
    "* Prevalence: 654,000 cases of lung cancer are in the US today.\n",
    "* Incidence: 226,000 is the estimated number of cases of lung cancer for 2025 in the US.\n",
    "* Risk factors (genetic, lifestyle) & Societal determinants: Smoking cigarettes is a major risk factor for developing lung cancer, as well as living or working in areas with poor air quality in general. Family history and mutations in the EGFR, KRAS, and ALK genes increase the risk for lung cancer. Limitied heathcare, environment, and poverty are all societal determinants for lung cancer as well.\n",
    "* Standard of care treatments (& reimbursement): Surgery, chemotherapy, and radiation are the primary treatments for lung cancer. Other options include a lung transplant but this is only an option when the patient has been cancer free for a period of time.  \n",
    "* Biological mechanisms (anatomy, organ physiology, cell & molecular physiology): Lung cancer prevents the lungs from its normal process of gas exchange and starts in the bronchi or alveoli. The mechanism includes tumor formation that immune invasion, angiogenesis, and spreading of the cancer throughout the lungs. Often the tumor metastasize quickly and spreads to other organs and bone. \n"
   ]
  },
  {
   "cell_type": "markdown",
   "id": "3b99aefb-cb03-4bd8-b972-437eb0e02dfe",
   "metadata": {},
   "source": [
    "## Data-Set: \n",
    "\n",
    "*Once you decide on the subset of data you want to use (i.e. only 1 cancer type or many; any clinical features needed?; which genes will you look at?) describe the dataset. There are a ton of clinical features, so you don't need to describe them all, only the ones pertinent to your question.*\n",
    "*(Describe the data set(s) you will analyze. Cite the source(s) of the data. Describe how the data was collected -- What techniques were used? What units are the data measured in? Etc.)*\n",
    "\n",
    "The data for our analysis come from The Cancer Genome Atlas (TCGA) RNA-sequencing dataset, which was re-processed by Rahman et al.. Expression levels are comparable across cancer types. The dataset includes 24 different cancers, with RNA-seq values expressed as log₂(TPM + 1) (Transcripts Per Million).\n",
    "\n",
    "The dataset was subsetted to include the 3,000 most variable protein-coding genes out of 15,000 total genes, across 1,802 tumor samples (out of 9264 total). This is typically 50–100 per cancer type. The metadata file provides approximately 70 clinical and molecular variables for each sample, such as patient age, tumor stage, histological subtype, as well as survival outcomes. The metadata codebook explains what each variable means, as well as variable type, and the metadata percent non-NA file shows how complete each variable is across different cancer types.\n",
    "\n",
    "Survival data was added from the Pan-Cancer Clinical Data Resource (Liu et al., 2018), which provides several outcome measures. Some examples are overall survival (OS), disease-specific survival (DSS), progression-free interval (PFI), and disease-free interval (DFI).\n",
    "\n",
    "The two cancer types we will be focused on in our analysis are LUAD (lung adenocarcinoma) and LUSC (lung squamous cell carcinoma). The variables for both of these are of similar completeness, both having about 50% of variables being complete enough for analysis. This includes general clinical background like race, gender, ehtnicity. It also includes radiation treatment status, tumor status, and survival related variables.\n",
    "\n",
    "These files specifically will be used for our analysis:\n",
    "\n",
    "GSE62944_subsample_log2TPM.csv\n",
    "GSE62944_subsample_topVar_log2TPM.csv\n",
    "GSE62944_metadata.csv\n",
    "subsampled_TCGA_CDR_survival.csv"
   ]
  },
  {
   "cell_type": "markdown",
   "id": "f4cde622-5508-4a54-aba8-77b454138bff",
   "metadata": {},
   "source": [
    "## Data Analyis: \n",
    "\n",
    "### Methods\n",
    "The machine learning technique I am using is: *fill in and describe*\n",
    "\n",
    "*What is this method optimizing? How does the model decide it is \"good enough\"?*\n",
    "\n",
    "**\n",
    "\n",
    "### Analysis\n",
    "*(Describe how you analyzed the data. This is where you should intersperse your Python code so that anyone reading this can run your code to perform the analysis that you did, generate your figures, etc.)*"
   ]
  },
  {
   "cell_type": "markdown",
   "id": "5c67b6a4-ec94-4d28-b2a7-f6b860495118",
   "metadata": {},
   "source": [
    "## Verify and validate your analysis: \n",
    "*Pick a SPECIFIC method to determine how well your model is performing and describe how it works here.*\n",
    "\n",
    "*(Describe how you checked to see that your analysis gave you an answer that you believe (verify). Describe how your determined if your analysis gave you an answer that is supported by other evidence (e.g., a published paper).*"
   ]
  },
  {
   "cell_type": "markdown",
   "id": "2736cf95-2b93-444f-90c8-d40a54fc1df1",
   "metadata": {},
   "source": [
    "## Conclusions and Ethical Implications: \n",
    "*(Think about the answer your analysis generated, draw conclusions related to your overarching question, and discuss the ethical implications of your conclusions.*"
   ]
  },
  {
   "cell_type": "markdown",
   "id": "f023b735-6efb-43ed-a03d-eb4a9cdb734e",
   "metadata": {},
   "source": [
    "## Limitations and Future Work: \n",
    "*(Think about the answer your analysis generated, draw conclusions related to your overarching question, and discuss the ethical implications of your conclusions.*"
   ]
  },
  {
   "cell_type": "markdown",
   "id": "d9295960-2404-43dc-b46f-9a6f823f1657",
   "metadata": {},
   "source": [
    "## NOTES FROM YOUR TEAM: \n",
    "Possible questions:\n",
    "* Due to the lungs already having significant vasculature, is angiogenesis \"easier\" for the tumor to achieve in lung cancer?\n",
    "* How does mutation of the TP53 affect the survival rate and progression of lung cancer?"
   ]
  },
  {
   "cell_type": "markdown",
   "id": "bd725b7f-9741-46b6-a213-9518da9201c3",
   "metadata": {},
   "source": [
    "## QUESTIONS FOR YOUR TA: \n",
    "*These are questions we have for our TA.*"
   ]
  },
  {
   "cell_type": "code",
   "execution_count": null,
   "id": "0d0190cf-c056-4b2c-a0c0-a56dfb854a55",
   "metadata": {},
   "outputs": [],
   "source": []
  }
 ],
 "metadata": {
  "kernelspec": {
   "display_name": "Python [conda env:base] *",
   "language": "python",
   "name": "conda-base-py"
  },
  "language_info": {
   "codemirror_mode": {
    "name": "ipython",
    "version": 3
   },
   "file_extension": ".py",
   "mimetype": "text/x-python",
   "name": "python",
   "nbconvert_exporter": "python",
   "pygments_lexer": "ipython3",
   "version": "3.13.5"
  }
 },
 "nbformat": 4,
 "nbformat_minor": 5
}
